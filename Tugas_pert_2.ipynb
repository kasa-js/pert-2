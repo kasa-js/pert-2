{
  "nbformat": 4,
  "nbformat_minor": 0,
  "metadata": {
    "colab": {
      "provenance": [],
      "toc_visible": true
    },
    "kernelspec": {
      "name": "python3",
      "display_name": "Python 3"
    },
    "language_info": {
      "name": "python"
    }
  },
  "cells": [
    {
      "cell_type": "code",
      "execution_count": null,
      "metadata": {
        "colab": {
          "base_uri": "https://localhost:8080/"
        },
        "id": "_SE-wU4vKAeg",
        "outputId": "867f1db7-7aad-4274-a12f-ba7adb7b8fdd"
      },
      "outputs": [
        {
          "output_type": "stream",
          "name": "stdout",
          "text": [
            "\u001b[32m11\u001b[0m \u001b[91m12\u001b[0m \u001b[32m13\u001b[0m \u001b[31m14\u001b[0m \u001b[32m15\u001b[0m\n",
            "\u001b[34m16\u001b[0m \u001b[91m17\u001b[0m 18 19 20\n",
            "\u001b[32m21\u001b[0m \u001b[91m22\u001b[0m \u001b[32m23\u001b[0m 24 \u001b[32m25\u001b[0m\n",
            "\u001b[34m26\u001b[0m \u001b[91m27\u001b[0m 28 29 30\n",
            "\u001b[32m31\u001b[0m \u001b[91m32\u001b[0m \u001b[32m33\u001b[0m 34 \u001b[32m35\u001b[0m\n"
          ]
        }
      ],
      "source": [
        "import numpy as np\n",
        "\n",
        "# Membuat matriks angka\n",
        "angka = np.arange(11, 36)\n",
        "matriks = angka.reshape(5, 5)\n",
        "\n",
        "# Membuat Angka jadi Berwarna dengan warna-warna tertentu\n",
        "def warna_angka(angka):\n",
        "    if angka in [11, 13, 15, 21, 23, 25, 31, 33, 35]:\n",
        "        return \"\\033[32m{}\\033[0m\".format(angka)  # Warna Hijau\n",
        "    elif angka == 14:\n",
        "        return \"\\033[31m{}\\033[0m\".format(angka)  # Warna Merah\n",
        "    elif angka in [16, 26]:\n",
        "        return \"\\033[34m{}\\033[0m\".format(angka)  # Warna Biru\n",
        "    elif angka in [12, 17, 22, 27, 32]:\n",
        "        return \"\\033[91m{}\\033[0m\".format(angka)  # Warna Merah Muda\n",
        "    else:\n",
        "        return str(angka)\n",
        "\n",
        "# Mengubah dengan warna angka yang sudah diubah\n",
        "matriks_warna = np.vectorize(warna_angka)(matriks)\n",
        "\n",
        "# Menampilkan matriks\n",
        "for baris in matriks_warna:\n",
        "    print(\" \".join(baris))\n"
      ]
    }
  ]
}